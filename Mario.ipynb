{
 "cells": [
  {
   "cell_type": "markdown",
   "id": "7ab17a0a-306a-476b-911e-310dd80ff3eb",
   "metadata": {},
   "source": [
    "!pip install gym_super_mario_bros==7.3.0 nes_py"
   ]
  },
  {
   "cell_type": "markdown",
   "id": "b1734d07-ec5c-4799-83f0-7fe61a4d0c98",
   "metadata": {},
   "source": [
    "###### pip install gym_super_mario_bros"
   ]
  },
  {
   "cell_type": "code",
   "execution_count": null,
   "id": "1886c9b3-9c87-49c7-89f1-5c0a624c6728",
   "metadata": {},
   "outputs": [],
   "source": []
  },
  {
   "cell_type": "code",
   "execution_count": 1,
   "id": "c6ae66e5-b24e-4cc4-aaf0-2072443d80e0",
   "metadata": {
    "scrolled": true
   },
   "outputs": [
    {
     "name": "stdout",
     "output_type": "stream",
     "text": [
      "Requirement already satisfied: ipykernel in c:\\users\\lester san juan\\miniconda3\\lib\\site-packages (6.29.5)\n",
      "Requirement already satisfied: comm>=0.1.1 in c:\\users\\lester san juan\\miniconda3\\lib\\site-packages (from ipykernel) (0.2.2)\n",
      "Requirement already satisfied: debugpy>=1.6.5 in c:\\users\\lester san juan\\miniconda3\\lib\\site-packages (from ipykernel) (1.8.6)\n",
      "Requirement already satisfied: ipython>=7.23.1 in c:\\users\\lester san juan\\miniconda3\\lib\\site-packages (from ipykernel) (8.28.0)\n",
      "Requirement already satisfied: jupyter-client>=6.1.12 in c:\\users\\lester san juan\\miniconda3\\lib\\site-packages (from ipykernel) (8.6.3)\n",
      "Requirement already satisfied: jupyter-core!=5.0.*,>=4.12 in c:\\users\\lester san juan\\miniconda3\\lib\\site-packages (from ipykernel) (5.7.2)\n",
      "Requirement already satisfied: matplotlib-inline>=0.1 in c:\\users\\lester san juan\\miniconda3\\lib\\site-packages (from ipykernel) (0.1.7)\n",
      "Requirement already satisfied: nest-asyncio in c:\\users\\lester san juan\\miniconda3\\lib\\site-packages (from ipykernel) (1.6.0)\n",
      "Requirement already satisfied: packaging in c:\\users\\lester san juan\\miniconda3\\lib\\site-packages (from ipykernel) (23.1)\n",
      "Requirement already satisfied: psutil in c:\\users\\lester san juan\\miniconda3\\lib\\site-packages (from ipykernel) (6.0.0)\n",
      "Requirement already satisfied: pyzmq>=24 in c:\\users\\lester san juan\\miniconda3\\lib\\site-packages (from ipykernel) (26.2.0)\n",
      "Requirement already satisfied: tornado>=6.1 in c:\\users\\lester san juan\\miniconda3\\lib\\site-packages (from ipykernel) (6.4.1)\n",
      "Requirement already satisfied: traitlets>=5.4.0 in c:\\users\\lester san juan\\miniconda3\\lib\\site-packages (from ipykernel) (5.14.3)\n",
      "Requirement already satisfied: decorator in c:\\users\\lester san juan\\miniconda3\\lib\\site-packages (from ipython>=7.23.1->ipykernel) (5.1.1)\n",
      "Requirement already satisfied: jedi>=0.16 in c:\\users\\lester san juan\\miniconda3\\lib\\site-packages (from ipython>=7.23.1->ipykernel) (0.19.1)\n",
      "Requirement already satisfied: prompt-toolkit<3.1.0,>=3.0.41 in c:\\users\\lester san juan\\miniconda3\\lib\\site-packages (from ipython>=7.23.1->ipykernel) (3.0.48)\n",
      "Requirement already satisfied: pygments>=2.4.0 in c:\\users\\lester san juan\\miniconda3\\lib\\site-packages (from ipython>=7.23.1->ipykernel) (2.18.0)\n",
      "Requirement already satisfied: stack-data in c:\\users\\lester san juan\\miniconda3\\lib\\site-packages (from ipython>=7.23.1->ipykernel) (0.6.3)\n",
      "Requirement already satisfied: typing-extensions>=4.6 in c:\\users\\lester san juan\\miniconda3\\lib\\site-packages (from ipython>=7.23.1->ipykernel) (4.12.2)\n",
      "Requirement already satisfied: colorama in c:\\users\\lester san juan\\miniconda3\\lib\\site-packages (from ipython>=7.23.1->ipykernel) (0.4.6)\n",
      "Requirement already satisfied: python-dateutil>=2.8.2 in c:\\users\\lester san juan\\miniconda3\\lib\\site-packages (from jupyter-client>=6.1.12->ipykernel) (2.9.0.post0)\n",
      "Requirement already satisfied: platformdirs>=2.5 in c:\\users\\lester san juan\\miniconda3\\lib\\site-packages (from jupyter-core!=5.0.*,>=4.12->ipykernel) (3.10.0)\n",
      "Requirement already satisfied: pywin32>=300 in c:\\users\\lester san juan\\miniconda3\\lib\\site-packages (from jupyter-core!=5.0.*,>=4.12->ipykernel) (307)\n",
      "Requirement already satisfied: parso<0.9.0,>=0.8.3 in c:\\users\\lester san juan\\miniconda3\\lib\\site-packages (from jedi>=0.16->ipython>=7.23.1->ipykernel) (0.8.4)\n",
      "Requirement already satisfied: wcwidth in c:\\users\\lester san juan\\miniconda3\\lib\\site-packages (from prompt-toolkit<3.1.0,>=3.0.41->ipython>=7.23.1->ipykernel) (0.2.13)\n",
      "Requirement already satisfied: six>=1.5 in c:\\users\\lester san juan\\miniconda3\\lib\\site-packages (from python-dateutil>=2.8.2->jupyter-client>=6.1.12->ipykernel) (1.16.0)\n",
      "Requirement already satisfied: executing>=1.2.0 in c:\\users\\lester san juan\\miniconda3\\lib\\site-packages (from stack-data->ipython>=7.23.1->ipykernel) (2.1.0)\n",
      "Requirement already satisfied: asttokens>=2.1.0 in c:\\users\\lester san juan\\miniconda3\\lib\\site-packages (from stack-data->ipython>=7.23.1->ipykernel) (2.4.1)\n",
      "Requirement already satisfied: pure-eval in c:\\users\\lester san juan\\miniconda3\\lib\\site-packages (from stack-data->ipython>=7.23.1->ipykernel) (0.2.3)\n",
      "Installed kernelspec py38 in C:\\Users\\Lester San Juan\\AppData\\Roaming\\jupyter\\kernels\\py38\n",
      "Collecting gym-super-mario-bros\n",
      "  Using cached gym_super_mario_bros-7.4.0-py3-none-any.whl.metadata (10 kB)\n",
      "Collecting nes-py>=8.1.4 (from gym-super-mario-bros)\n",
      "  Using cached nes_py-8.2.1.tar.gz (77 kB)\n",
      "  Preparing metadata (setup.py): started\n",
      "  Preparing metadata (setup.py): finished with status 'done'\n",
      "Collecting gym>=0.17.2 (from nes-py>=8.1.4->gym-super-mario-bros)\n",
      "  Using cached gym-0.26.2-py3-none-any.whl\n",
      "Requirement already satisfied: numpy>=1.18.5 in c:\\users\\lester san juan\\miniconda3\\lib\\site-packages (from nes-py>=8.1.4->gym-super-mario-bros) (2.1.2)\n",
      "Collecting pyglet<=1.5.21,>=1.4.0 (from nes-py>=8.1.4->gym-super-mario-bros)\n",
      "  Using cached pyglet-1.5.21-py3-none-any.whl.metadata (7.6 kB)\n",
      "Requirement already satisfied: tqdm>=4.48.2 in c:\\users\\lester san juan\\miniconda3\\lib\\site-packages (from nes-py>=8.1.4->gym-super-mario-bros) (4.65.0)\n",
      "Collecting cloudpickle>=1.2.0 (from gym>=0.17.2->nes-py>=8.1.4->gym-super-mario-bros)\n",
      "  Using cached cloudpickle-3.1.1-py3-none-any.whl.metadata (7.1 kB)\n",
      "Collecting gym_notices>=0.0.4 (from gym>=0.17.2->nes-py>=8.1.4->gym-super-mario-bros)\n",
      "  Using cached gym_notices-0.0.8-py3-none-any.whl.metadata (1.0 kB)\n",
      "Requirement already satisfied: colorama in c:\\users\\lester san juan\\miniconda3\\lib\\site-packages (from tqdm>=4.48.2->nes-py>=8.1.4->gym-super-mario-bros) (0.4.6)\n",
      "Using cached gym_super_mario_bros-7.4.0-py3-none-any.whl (199 kB)\n",
      "Using cached pyglet-1.5.21-py3-none-any.whl (1.1 MB)\n",
      "Using cached cloudpickle-3.1.1-py3-none-any.whl (20 kB)\n",
      "Using cached gym_notices-0.0.8-py3-none-any.whl (3.0 kB)\n",
      "Building wheels for collected packages: nes-py\n",
      "  Building wheel for nes-py (setup.py): started\n",
      "  Building wheel for nes-py (setup.py): finished with status 'done'\n",
      "  Created wheel for nes-py: filename=nes_py-8.2.1-cp311-cp311-win_amd64.whl size=45983 sha256=18add71940caaa465ad56a3cf3cc63992f14d5c28545697e27da0ed4a390ff35\n",
      "  Stored in directory: c:\\users\\lester san juan\\appdata\\local\\pip\\cache\\wheels\\be\\b4\\5a\\68b9155f1d2380af0e359c71efd4c70518555be4c2f577f1d3\n",
      "Successfully built nes-py\n",
      "Installing collected packages: pyglet, gym_notices, cloudpickle, gym, nes-py, gym-super-mario-bros\n",
      "Successfully installed cloudpickle-3.1.1 gym-0.26.2 gym-super-mario-bros-7.4.0 gym_notices-0.0.8 nes-py-8.2.1 pyglet-1.5.21\n",
      "Requirement already satisfied: torch in c:\\users\\lester san juan\\miniconda3\\lib\\site-packages (2.6.0)\n",
      "Requirement already satisfied: torchvision in c:\\users\\lester san juan\\miniconda3\\lib\\site-packages (0.21.0)\n",
      "Requirement already satisfied: torchaudio in c:\\users\\lester san juan\\miniconda3\\lib\\site-packages (2.6.0)\n",
      "Requirement already satisfied: filelock in c:\\users\\lester san juan\\miniconda3\\lib\\site-packages (from torch) (3.18.0)\n",
      "Requirement already satisfied: typing-extensions>=4.10.0 in c:\\users\\lester san juan\\miniconda3\\lib\\site-packages (from torch) (4.12.2)\n",
      "Requirement already satisfied: networkx in c:\\users\\lester san juan\\miniconda3\\lib\\site-packages (from torch) (3.4.2)\n",
      "Requirement already satisfied: jinja2 in c:\\users\\lester san juan\\miniconda3\\lib\\site-packages (from torch) (3.1.4)\n",
      "Requirement already satisfied: fsspec in c:\\users\\lester san juan\\miniconda3\\lib\\site-packages (from torch) (2025.3.0)\n",
      "Requirement already satisfied: sympy==1.13.1 in c:\\users\\lester san juan\\miniconda3\\lib\\site-packages (from torch) (1.13.1)\n",
      "Requirement already satisfied: mpmath<1.4,>=1.1.0 in c:\\users\\lester san juan\\miniconda3\\lib\\site-packages (from sympy==1.13.1->torch) (1.3.0)\n",
      "Requirement already satisfied: numpy in c:\\users\\lester san juan\\miniconda3\\lib\\site-packages (from torchvision) (2.1.2)\n",
      "Requirement already satisfied: pillow!=8.3.*,>=5.3.0 in c:\\users\\lester san juan\\miniconda3\\lib\\site-packages (from torchvision) (10.4.0)\n",
      "Requirement already satisfied: MarkupSafe>=2.0 in c:\\users\\lester san juan\\miniconda3\\lib\\site-packages (from jinja2->torch) (3.0.0)\n"
     ]
    },
    {
     "name": "stderr",
     "output_type": "stream",
     "text": [
      "ERROR: Invalid requirement: \"'shimmy\"\n"
     ]
    },
    {
     "name": "stdout",
     "output_type": "stream",
     "text": [
      "Collecting gym<0.26\n",
      "  Using cached gym-0.25.2.tar.gz (734 kB)\n",
      "  Installing build dependencies: started\n",
      "  Installing build dependencies: finished with status 'done'\n",
      "  Getting requirements to build wheel: started\n",
      "  Getting requirements to build wheel: finished with status 'done'\n",
      "  Preparing metadata (pyproject.toml): started\n",
      "  Preparing metadata (pyproject.toml): finished with status 'done'\n",
      "Collecting stable-baselines3<1.7.0\n",
      "  Using cached stable_baselines3-1.6.2-py3-none-any.whl.metadata (4.1 kB)\n",
      "Requirement already satisfied: numpy>=1.18.0 in c:\\users\\lester san juan\\miniconda3\\lib\\site-packages (from gym<0.26) (2.1.2)\n",
      "Requirement already satisfied: cloudpickle>=1.2.0 in c:\\users\\lester san juan\\miniconda3\\lib\\site-packages (from gym<0.26) (3.1.1)\n",
      "Requirement already satisfied: gym_notices>=0.0.4 in c:\\users\\lester san juan\\miniconda3\\lib\\site-packages (from gym<0.26) (0.0.8)\n",
      "Collecting gym<0.26\n",
      "  Using cached gym-0.21.0.tar.gz (1.5 MB)\n",
      "  Preparing metadata (setup.py): started\n",
      "  Preparing metadata (setup.py): finished with status 'error'\n"
     ]
    },
    {
     "name": "stderr",
     "output_type": "stream",
     "text": [
      "  error: subprocess-exited-with-error\n",
      "  \n",
      "  python setup.py egg_info did not run successfully.\n",
      "  exit code: 1\n",
      "  \n",
      "  [3 lines of output]\n",
      "  C:\\Users\\Lester San Juan\\miniconda3\\Lib\\site-packages\\setuptools\\_distutils\\dist.py:289: UserWarning: Unknown distribution option: 'tests_require'\n",
      "    warnings.warn(msg)\n",
      "  error in gym setup command: 'extras_require' must be a dictionary whose values are strings or lists of strings containing valid project/version requirement specifiers.\n",
      "  [end of output]\n",
      "  \n",
      "  note: This error originates from a subprocess, and is likely not a problem with pip.\n",
      "error: metadata-generation-failed\n",
      "\n",
      "Encountered error while generating package metadata.\n",
      "\n",
      "See above for output.\n",
      "\n",
      "note: This is an issue with the package mentioned above, not pip.\n",
      "hint: See above for details.\n"
     ]
    },
    {
     "name": "stdout",
     "output_type": "stream",
     "text": [
      "Requirement already satisfied: setuptools in c:\\users\\lester san juan\\miniconda3\\lib\\site-packages (77.0.3)\n",
      "Requirement already satisfied: wheel in c:\\users\\lester san juan\\miniconda3\\lib\\site-packages (0.45.1)\n"
     ]
    }
   ],
   "source": [
    "!pip install ipykernel \n",
    "!python -m ipykernel install --user --name py38 --display-name \"Python 3.8 (env)\"\n",
    "!pip install gym-super-mario-bros\n",
    "!pip install torch torchvision torchaudio\n",
    "#!pip install stable-baselines3\n",
    "!pip install 'shimmy>=2.0'\n",
    "!pip install \"gym<0.26\" \"stable-baselines3<1.7.0\"\n",
    "!pip install --upgrade setuptools wheel "
   ]
  },
  {
   "cell_type": "code",
   "execution_count": 2,
   "id": "cb88ed45-4574-4911-9aee-8871c415f8a0",
   "metadata": {},
   "outputs": [],
   "source": [
    "#import the game\n",
    "#import the joypad\n",
    "import gym_super_mario_bros\n",
    "import gym\n",
    "from nes_py.wrappers import JoypadSpace\n",
    "\n",
    "from gym_super_mario_bros.actions import SIMPLE_MOVEMENT"
   ]
  },
  {
   "cell_type": "code",
   "execution_count": 3,
   "id": "d8f71825-b4ed-48f4-80fc-71040bb818c1",
   "metadata": {},
   "outputs": [
    {
     "data": {
      "text/plain": [
       "[['NOOP'],\n",
       " ['right'],\n",
       " ['right', 'A'],\n",
       " ['right', 'B'],\n",
       " ['right', 'A', 'B'],\n",
       " ['A'],\n",
       " ['left']]"
      ]
     },
     "execution_count": 3,
     "metadata": {},
     "output_type": "execute_result"
    }
   ],
   "source": [
    "SIMPLE_MOVEMENT"
   ]
  },
  {
   "cell_type": "code",
   "execution_count": 4,
   "id": "15a158dd-3686-494d-b119-0dd85871d435",
   "metadata": {},
   "outputs": [
    {
     "name": "stderr",
     "output_type": "stream",
     "text": [
      "C:\\Users\\Lester San Juan\\miniconda3\\Lib\\site-packages\\gym\\envs\\registration.py:555: UserWarning: \u001b[33mWARN: The environment SuperMarioBros-v0 is out of date. You should consider upgrading to version `v3`.\u001b[0m\n",
      "  logger.warn(\n",
      "C:\\Users\\Lester San Juan\\miniconda3\\Lib\\site-packages\\gym\\envs\\registration.py:627: UserWarning: \u001b[33mWARN: The environment creator metadata doesn't include `render_modes`, contains: ['render.modes', 'video.frames_per_second']\u001b[0m\n",
      "  logger.warn(\n"
     ]
    },
    {
     "ename": "OverflowError",
     "evalue": "Python integer 1024 out of bounds for uint8",
     "output_type": "error",
     "traceback": [
      "\u001b[1;31m---------------------------------------------------------------------------\u001b[0m",
      "\u001b[1;31mOverflowError\u001b[0m                             Traceback (most recent call last)",
      "Cell \u001b[1;32mIn[4], line 1\u001b[0m\n\u001b[1;32m----> 1\u001b[0m env \u001b[38;5;241m=\u001b[39m \u001b[43mgym_super_mario_bros\u001b[49m\u001b[38;5;241;43m.\u001b[39;49m\u001b[43mmake\u001b[49m\u001b[43m(\u001b[49m\u001b[38;5;124;43m'\u001b[39;49m\u001b[38;5;124;43mSuperMarioBros-v0\u001b[39;49m\u001b[38;5;124;43m'\u001b[39;49m\u001b[43m,\u001b[49m\u001b[43mapply_api_compatibility\u001b[49m\u001b[38;5;241;43m=\u001b[39;49m\u001b[38;5;28;43;01mTrue\u001b[39;49;00m\u001b[43m,\u001b[49m\u001b[43mrender_mode\u001b[49m\u001b[38;5;241;43m=\u001b[39;49m\u001b[38;5;124;43m\"\u001b[39;49m\u001b[38;5;124;43mhuman\u001b[39;49m\u001b[38;5;124;43m\"\u001b[39;49m\u001b[43m \u001b[49m\u001b[43m)\u001b[49m\n\u001b[0;32m      2\u001b[0m env \u001b[38;5;241m=\u001b[39m JoypadSpace(env, SIMPLE_MOVEMENT)\n",
      "File \u001b[1;32m~\\miniconda3\\Lib\\site-packages\\gym\\envs\\registration.py:640\u001b[0m, in \u001b[0;36mmake\u001b[1;34m(id, max_episode_steps, autoreset, apply_api_compatibility, disable_env_checker, **kwargs)\u001b[0m\n\u001b[0;32m    637\u001b[0m     render_mode \u001b[38;5;241m=\u001b[39m \u001b[38;5;28;01mNone\u001b[39;00m\n\u001b[0;32m    639\u001b[0m \u001b[38;5;28;01mtry\u001b[39;00m:\n\u001b[1;32m--> 640\u001b[0m     env \u001b[38;5;241m=\u001b[39m \u001b[43menv_creator\u001b[49m\u001b[43m(\u001b[49m\u001b[38;5;241;43m*\u001b[39;49m\u001b[38;5;241;43m*\u001b[39;49m\u001b[43m_kwargs\u001b[49m\u001b[43m)\u001b[49m\n\u001b[0;32m    641\u001b[0m \u001b[38;5;28;01mexcept\u001b[39;00m \u001b[38;5;167;01mTypeError\u001b[39;00m \u001b[38;5;28;01mas\u001b[39;00m e:\n\u001b[0;32m    642\u001b[0m     \u001b[38;5;28;01mif\u001b[39;00m (\n\u001b[0;32m    643\u001b[0m         \u001b[38;5;28mstr\u001b[39m(e)\u001b[38;5;241m.\u001b[39mfind(\u001b[38;5;124m\"\u001b[39m\u001b[38;5;124mgot an unexpected keyword argument \u001b[39m\u001b[38;5;124m'\u001b[39m\u001b[38;5;124mrender_mode\u001b[39m\u001b[38;5;124m'\u001b[39m\u001b[38;5;124m\"\u001b[39m) \u001b[38;5;241m>\u001b[39m\u001b[38;5;241m=\u001b[39m \u001b[38;5;241m0\u001b[39m\n\u001b[0;32m    644\u001b[0m         \u001b[38;5;129;01mand\u001b[39;00m apply_human_rendering\n\u001b[0;32m    645\u001b[0m     ):\n",
      "File \u001b[1;32m~\\miniconda3\\Lib\\site-packages\\gym_super_mario_bros\\smb_env.py:52\u001b[0m, in \u001b[0;36mSuperMarioBrosEnv.__init__\u001b[1;34m(self, rom_mode, lost_levels, target)\u001b[0m\n\u001b[0;32m     50\u001b[0m rom \u001b[38;5;241m=\u001b[39m rom_path(lost_levels, rom_mode)\n\u001b[0;32m     51\u001b[0m \u001b[38;5;66;03m# initialize the super object with the ROM path\u001b[39;00m\n\u001b[1;32m---> 52\u001b[0m \u001b[38;5;28;43msuper\u001b[39;49m\u001b[43m(\u001b[49m\u001b[43mSuperMarioBrosEnv\u001b[49m\u001b[43m,\u001b[49m\u001b[43m \u001b[49m\u001b[38;5;28;43mself\u001b[39;49m\u001b[43m)\u001b[49m\u001b[38;5;241;43m.\u001b[39;49m\u001b[38;5;21;43m__init__\u001b[39;49m\u001b[43m(\u001b[49m\u001b[43mrom\u001b[49m\u001b[43m)\u001b[49m\n\u001b[0;32m     53\u001b[0m \u001b[38;5;66;03m# set the target world, stage, and area variables\u001b[39;00m\n\u001b[0;32m     54\u001b[0m target \u001b[38;5;241m=\u001b[39m decode_target(target, lost_levels)\n",
      "File \u001b[1;32m~\\miniconda3\\Lib\\site-packages\\nes_py\\nes_env.py:126\u001b[0m, in \u001b[0;36mNESEnv.__init__\u001b[1;34m(self, rom_path)\u001b[0m\n\u001b[0;32m    124\u001b[0m     \u001b[38;5;28;01mraise\u001b[39;00m \u001b[38;5;167;01mValueError\u001b[39;00m(\u001b[38;5;124m'\u001b[39m\u001b[38;5;124mROM has trainer. trainer is not supported.\u001b[39m\u001b[38;5;124m'\u001b[39m)\n\u001b[0;32m    125\u001b[0m \u001b[38;5;66;03m# try to read the PRG ROM and raise a value error if it fails\u001b[39;00m\n\u001b[1;32m--> 126\u001b[0m _ \u001b[38;5;241m=\u001b[39m \u001b[43mrom\u001b[49m\u001b[38;5;241;43m.\u001b[39;49m\u001b[43mprg_rom\u001b[49m\n\u001b[0;32m    127\u001b[0m \u001b[38;5;66;03m# try to read the CHR ROM and raise a value error if it fails\u001b[39;00m\n\u001b[0;32m    128\u001b[0m _ \u001b[38;5;241m=\u001b[39m rom\u001b[38;5;241m.\u001b[39mchr_rom\n",
      "File \u001b[1;32m~\\miniconda3\\Lib\\site-packages\\nes_py\\_rom.py:204\u001b[0m, in \u001b[0;36mROM.prg_rom\u001b[1;34m(self)\u001b[0m\n\u001b[0;32m    202\u001b[0m \u001b[38;5;250m\u001b[39m\u001b[38;5;124;03m\"\"\"Return the PRG ROM of the ROM file.\"\"\"\u001b[39;00m\n\u001b[0;32m    203\u001b[0m \u001b[38;5;28;01mtry\u001b[39;00m:\n\u001b[1;32m--> 204\u001b[0m     \u001b[38;5;28;01mreturn\u001b[39;00m \u001b[38;5;28mself\u001b[39m\u001b[38;5;241m.\u001b[39mraw_data[\u001b[38;5;28mself\u001b[39m\u001b[38;5;241m.\u001b[39mprg_rom_start:\u001b[38;5;28;43mself\u001b[39;49m\u001b[38;5;241;43m.\u001b[39;49m\u001b[43mprg_rom_stop\u001b[49m]\n\u001b[0;32m    205\u001b[0m \u001b[38;5;28;01mexcept\u001b[39;00m \u001b[38;5;167;01mIndexError\u001b[39;00m:\n\u001b[0;32m    206\u001b[0m     \u001b[38;5;28;01mraise\u001b[39;00m \u001b[38;5;167;01mValueError\u001b[39;00m(\u001b[38;5;124m'\u001b[39m\u001b[38;5;124mfailed to read PRG-ROM on ROM.\u001b[39m\u001b[38;5;124m'\u001b[39m)\n",
      "File \u001b[1;32m~\\miniconda3\\Lib\\site-packages\\nes_py\\_rom.py:198\u001b[0m, in \u001b[0;36mROM.prg_rom_stop\u001b[1;34m(self)\u001b[0m\n\u001b[0;32m    195\u001b[0m \u001b[38;5;129m@property\u001b[39m\n\u001b[0;32m    196\u001b[0m \u001b[38;5;28;01mdef\u001b[39;00m \u001b[38;5;21mprg_rom_stop\u001b[39m(\u001b[38;5;28mself\u001b[39m):\n\u001b[0;32m    197\u001b[0m \u001b[38;5;250m    \u001b[39m\u001b[38;5;124;03m\"\"\"The exclusive stopping index of the PRG ROM.\"\"\"\u001b[39;00m\n\u001b[1;32m--> 198\u001b[0m     \u001b[38;5;28;01mreturn\u001b[39;00m \u001b[38;5;28mself\u001b[39m\u001b[38;5;241m.\u001b[39mprg_rom_start \u001b[38;5;241m+\u001b[39m \u001b[38;5;28;43mself\u001b[39;49m\u001b[38;5;241;43m.\u001b[39;49m\u001b[43mprg_rom_size\u001b[49m\u001b[43m \u001b[49m\u001b[38;5;241;43m*\u001b[39;49m\u001b[43m \u001b[49m\u001b[38;5;241;43m2\u001b[39;49m\u001b[38;5;241;43m*\u001b[39;49m\u001b[38;5;241;43m*\u001b[39;49m\u001b[38;5;241;43m10\u001b[39;49m\n",
      "\u001b[1;31mOverflowError\u001b[0m: Python integer 1024 out of bounds for uint8"
     ]
    }
   ],
   "source": [
    "env = gym_super_mario_bros.make('SuperMarioBros-v0',apply_api_compatibility=True,render_mode=\"human\" )\n",
    "env = JoypadSpace(env, SIMPLE_MOVEMENT)"
   ]
  },
  {
   "cell_type": "code",
   "execution_count": null,
   "id": "24ec9f97-1a87-4c51-b641-fe0c5fdc75f9",
   "metadata": {},
   "outputs": [],
   "source": [
    "#done = True\n",
    "#for step in range(100000):\n",
    "#    if done:\n",
    "#        state = env.reset()\n",
    "#    state, reward, done, _ , info = env.step(env.action_space.sample())\n",
    "#    env.render()\n",
    "#env.close()"
   ]
  },
  {
   "cell_type": "code",
   "execution_count": null,
   "id": "650d880a-198c-4f7e-a8f2-417b2ed21df7",
   "metadata": {},
   "outputs": [],
   "source": [
    "\n",
    "from gym.wrappers import FrameStack, GrayScaleObservation\n",
    "\n",
    "from stable_baselines3.common.vec_env import VecFrameStack, DummyVecEnv\n",
    "\n",
    "from matplotlib import pyplot as plt\n"
   ]
  },
  {
   "cell_type": "code",
   "execution_count": null,
   "id": "03234c60-6e56-4e65-bf55-1508a5c0a2a6",
   "metadata": {},
   "outputs": [],
   "source": [
    "#create base environemtn\n",
    "class RemoveSeedResetWrapper(gym.Wrapper):\n",
    "    def reset(self, **kwargs):\n",
    "        # Remove the 'seed' argument if it appears\n",
    "        kwargs.pop('seed', None)\n",
    "        return self.env.reset(**kwargs)\n",
    "        \n",
    "env = gym_super_mario_bros.make('SuperMarioBros-v0',apply_api_compatibility=True,render_mode=\"human\" )\n",
    "#simplify control\n",
    "env = JoypadSpace(env, SIMPLE_MOVEMENT)\n",
    "#gray scale\n",
    "env = GrayScaleObservation(env, keep_dim = True)\n",
    "env = DummyVecEnv([lambda: env])\n",
    "env = VecFrameStack(env, 4, channels_order='last')\n"
   ]
  },
  {
   "cell_type": "code",
   "execution_count": null,
   "id": "686fae48-7905-4251-a202-a3c768a5f188",
   "metadata": {},
   "outputs": [],
   "source": []
  },
  {
   "cell_type": "code",
   "execution_count": null,
   "id": "ba33285b-f03a-4525-ba1b-a0fd6ee89651",
   "metadata": {},
   "outputs": [],
   "source": [
    "#import depenedices\n",
    "#import PPO\n",
    "\n",
    "import os\n",
    "from stable_baselines3 import PPO"
   ]
  },
  {
   "cell_type": "code",
   "execution_count": null,
   "id": "a88cf4ea-6f99-4345-b3df-f9976f1d5bd9",
   "metadata": {},
   "outputs": [],
   "source": [
    "model = PPO('CnnPolicy', env, verbose=1, learning_rate=0.000001,\n",
    "            n_steps=512)\n"
   ]
  },
  {
   "cell_type": "code",
   "execution_count": null,
   "id": "d1e05737-a5e9-4921-9ecc-3342c9f95a65",
   "metadata": {},
   "outputs": [],
   "source": [
    "model.learn(total_timesteps=1000000)"
   ]
  },
  {
   "cell_type": "code",
   "execution_count": null,
   "id": "e4770e35-e756-4585-b8a1-1073f43c5eee",
   "metadata": {},
   "outputs": [],
   "source": []
  },
  {
   "cell_type": "code",
   "execution_count": null,
   "id": "aaa51bcb-689e-4a3e-b694-d478b40b39a4",
   "metadata": {},
   "outputs": [],
   "source": []
  },
  {
   "cell_type": "code",
   "execution_count": null,
   "id": "ec179741-c189-4c21-bbdb-70a8465f0704",
   "metadata": {},
   "outputs": [],
   "source": []
  },
  {
   "cell_type": "code",
   "execution_count": null,
   "id": "6f04b0cc-543c-4ae0-9f05-4359cbe5c9b4",
   "metadata": {},
   "outputs": [],
   "source": []
  }
 ],
 "metadata": {
  "kernelspec": {
   "display_name": "Python 3 (ipykernel)",
   "language": "python",
   "name": "python3"
  },
  "language_info": {
   "codemirror_mode": {
    "name": "ipython",
    "version": 3
   },
   "file_extension": ".py",
   "mimetype": "text/x-python",
   "name": "python",
   "nbconvert_exporter": "python",
   "pygments_lexer": "ipython3",
   "version": "3.11.5"
  }
 },
 "nbformat": 4,
 "nbformat_minor": 5
}
